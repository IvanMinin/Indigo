{
 "cells": [
  {
   "cell_type": "code",
   "execution_count": 3,
   "id": "potential-grade",
   "metadata": {},
   "outputs": [],
   "source": [
    "from indigo import *\n",
    "\n",
    "indigo = Indigo()"
   ]
  },
  {
   "cell_type": "code",
   "execution_count": 4,
   "id": "6d12b075",
   "metadata": {},
   "outputs": [
    {
     "name": "stdout",
     "output_type": "stream",
     "text": [
      "Indigo version 1.5.0-g1aef03cac-x86_64-win-msvc-1929\n"
     ]
    }
   ],
   "source": [
    "print(\"Indigo version \" + indigo.version())"
   ]
  },
  {
   "cell_type": "code",
   "execution_count": 5,
   "id": "a6308026",
   "metadata": {},
   "outputs": [],
   "source": [
    "# pip install pandas"
   ]
  },
  {
   "cell_type": "code",
   "execution_count": 16,
   "id": "7685388b",
   "metadata": {},
   "outputs": [],
   "source": [
    "import pandas as pd\n",
    "import numpy as np\n",
    "from pathlib import Path\n",
    "pd.options.mode.chained_assignment = None"
   ]
  },
  {
   "cell_type": "code",
   "execution_count": 7,
   "id": "7503b10a",
   "metadata": {},
   "outputs": [],
   "source": [
    "dataset = pd.read_csv(\"Adrenergic_dataset.csv\")"
   ]
  },
  {
   "cell_type": "code",
   "execution_count": 8,
   "id": "ac7ffd8d",
   "metadata": {},
   "outputs": [
    {
     "data": {
      "text/html": [
       "<div>\n",
       "<style scoped>\n",
       "    .dataframe tbody tr th:only-of-type {\n",
       "        vertical-align: middle;\n",
       "    }\n",
       "\n",
       "    .dataframe tbody tr th {\n",
       "        vertical-align: top;\n",
       "    }\n",
       "\n",
       "    .dataframe thead th {\n",
       "        text-align: right;\n",
       "    }\n",
       "</style>\n",
       "<table border=\"1\" class=\"dataframe\">\n",
       "  <thead>\n",
       "    <tr style=\"text-align: right;\">\n",
       "      <th></th>\n",
       "      <th>Structure</th>\n",
       "      <th>ID</th>\n",
       "      <th>logP</th>\n",
       "    </tr>\n",
       "  </thead>\n",
       "  <tbody>\n",
       "    <tr>\n",
       "      <th>0</th>\n",
       "      <td>CC\\C(=C(\\CC)/c1ccc(O)cc1)\\c2ccc(O)cc2</td>\n",
       "      <td>CHEMBL411</td>\n",
       "      <td>4.871</td>\n",
       "    </tr>\n",
       "    <tr>\n",
       "      <th>1</th>\n",
       "      <td>CSc1ccc2Sc3ccccc3N(CCC4CCCCN4C)c2c1</td>\n",
       "      <td>CHEMBL479</td>\n",
       "      <td>5.900</td>\n",
       "    </tr>\n",
       "    <tr>\n",
       "      <th>2</th>\n",
       "      <td>COc1cccc(CCN2C3C4C5CC6C7C5C3C7C2(O)C46)c1</td>\n",
       "      <td>CHEMBL2205811</td>\n",
       "      <td>3.040</td>\n",
       "    </tr>\n",
       "    <tr>\n",
       "      <th>3</th>\n",
       "      <td>COc1cc(CN[C@H]2C3C4CC5C6C4CC3C6C25)cc(OC)c1OC</td>\n",
       "      <td>CHEMBL2432051</td>\n",
       "      <td>3.380</td>\n",
       "    </tr>\n",
       "    <tr>\n",
       "      <th>4</th>\n",
       "      <td>COc1cccc(CCN2C3C4C5CC6C7C5C3C7C2(O)C46)c1OC</td>\n",
       "      <td>CHEMBL2205813</td>\n",
       "      <td>2.899</td>\n",
       "    </tr>\n",
       "  </tbody>\n",
       "</table>\n",
       "</div>"
      ],
      "text/plain": [
       "                                       Structure             ID   logP\n",
       "0          CC\\C(=C(\\CC)/c1ccc(O)cc1)\\c2ccc(O)cc2      CHEMBL411  4.871\n",
       "1            CSc1ccc2Sc3ccccc3N(CCC4CCCCN4C)c2c1      CHEMBL479  5.900\n",
       "2      COc1cccc(CCN2C3C4C5CC6C7C5C3C7C2(O)C46)c1  CHEMBL2205811  3.040\n",
       "3  COc1cc(CN[C@H]2C3C4CC5C6C4CC3C6C25)cc(OC)c1OC  CHEMBL2432051  3.380\n",
       "4    COc1cccc(CCN2C3C4C5CC6C7C5C3C7C2(O)C46)c1OC  CHEMBL2205813  2.899"
      ]
     },
     "execution_count": 8,
     "metadata": {},
     "output_type": "execute_result"
    }
   ],
   "source": [
    "ds_logp = dataset[[\"Structure\", \"ID\", \"logP\"]]\n",
    "ds_logp.head()"
   ]
  },
  {
   "cell_type": "code",
   "execution_count": 9,
   "id": "a7ca92b7",
   "metadata": {
    "scrolled": true
   },
   "outputs": [
    {
     "data": {
      "text/html": [
       "<div>\n",
       "<style scoped>\n",
       "    .dataframe tbody tr th:only-of-type {\n",
       "        vertical-align: middle;\n",
       "    }\n",
       "\n",
       "    .dataframe tbody tr th {\n",
       "        vertical-align: top;\n",
       "    }\n",
       "\n",
       "    .dataframe thead th {\n",
       "        text-align: right;\n",
       "    }\n",
       "</style>\n",
       "<table border=\"1\" class=\"dataframe\">\n",
       "  <thead>\n",
       "    <tr style=\"text-align: right;\">\n",
       "      <th></th>\n",
       "      <th>Structure</th>\n",
       "      <th>ID</th>\n",
       "      <th>AdrA1A_PCHEMBL_VALUE</th>\n",
       "    </tr>\n",
       "  </thead>\n",
       "  <tbody>\n",
       "    <tr>\n",
       "      <th>0</th>\n",
       "      <td>CNC(=O)C(CCN1CCC(O)(CC1)c2ccc(Cl)cc2)(c3ccccc3...</td>\n",
       "      <td>CHEMBL1627</td>\n",
       "      <td>8.00</td>\n",
       "    </tr>\n",
       "    <tr>\n",
       "      <th>1</th>\n",
       "      <td>Cc1ccc2c(cccc2n1)N3CCN(CCc4cccc5c4OCc6c(ncn56)...</td>\n",
       "      <td>CHEMBL1241913</td>\n",
       "      <td>8.56</td>\n",
       "    </tr>\n",
       "    <tr>\n",
       "      <th>2</th>\n",
       "      <td>COc1ccccc1OCCNCC2CSC(S2)(c3ccccc3)c4ccccc4</td>\n",
       "      <td>CHEMBL1086156</td>\n",
       "      <td>7.45</td>\n",
       "    </tr>\n",
       "    <tr>\n",
       "      <th>3</th>\n",
       "      <td>O[C@H]1[C@H](CC[C@@H]1Oc2ccccc2)NC[C@H]3COc4cc...</td>\n",
       "      <td>CHEMBL135974</td>\n",
       "      <td>6.41</td>\n",
       "    </tr>\n",
       "    <tr>\n",
       "      <th>4</th>\n",
       "      <td>COc1cccc(OC)c1OCCNC[C@H]2COc3ccccc3O2</td>\n",
       "      <td>CHEMBL1182155</td>\n",
       "      <td>9.39</td>\n",
       "    </tr>\n",
       "  </tbody>\n",
       "</table>\n",
       "</div>"
      ],
      "text/plain": [
       "                                           Structure             ID  \\\n",
       "0  CNC(=O)C(CCN1CCC(O)(CC1)c2ccc(Cl)cc2)(c3ccccc3...     CHEMBL1627   \n",
       "1  Cc1ccc2c(cccc2n1)N3CCN(CCc4cccc5c4OCc6c(ncn56)...  CHEMBL1241913   \n",
       "2         COc1ccccc1OCCNCC2CSC(S2)(c3ccccc3)c4ccccc4  CHEMBL1086156   \n",
       "3  O[C@H]1[C@H](CC[C@@H]1Oc2ccccc2)NC[C@H]3COc4cc...   CHEMBL135974   \n",
       "4              COc1cccc(OC)c1OCCNC[C@H]2COc3ccccc3O2  CHEMBL1182155   \n",
       "\n",
       "   AdrA1A_PCHEMBL_VALUE  \n",
       "0                  8.00  \n",
       "1                  8.56  \n",
       "2                  7.45  \n",
       "3                  6.41  \n",
       "4                  9.39  "
      ]
     },
     "execution_count": 9,
     "metadata": {},
     "output_type": "execute_result"
    }
   ],
   "source": [
    "ds_adra = dataset[dataset[\"AdrA1A_PCHEMBL_VALUE\"].notna()][[\"Structure\", \"ID\", \"AdrA1A_PCHEMBL_VALUE\"]]\n",
    "ds_adra.reset_index(inplace=True, drop=True)\n",
    "ds_adra.head()"
   ]
  },
  {
   "cell_type": "code",
   "execution_count": 10,
   "id": "e0af9150",
   "metadata": {},
   "outputs": [],
   "source": [
    "def indigo_fingerprint_short(structure: str) -> np.ndarray:\n",
    "    indigo.setOption(\"ignore-stereochemistry-errors\", True)\n",
    "    indigo.setOption(\"ignore-bad-valence\", True)\n",
    "    m = indigo.loadMolecule(structure)\n",
    "    m.aromatize()\n",
    "    indigo.setOption(\"similarity-type\", \"ecfp6\")\n",
    "    indigo.setOption(\"fp-sim-qwords\", 24)\n",
    "    indigo.setOption(\"fp-ord-qwords\", 6)\n",
    "    indigo.setOption(\"fp-any-qwords\", 6)\n",
    "    indigo.setOption(\"fp-tau-qwords\", 3)\n",
    "    indigo.setOption(\"fp-ext-enabled\", True)\n",
    "    ecfp = numpy.frombuffer(m.fingerprint(\"full\").toBuffer(), dtype=numpy.uint8)\n",
    "    return ecfp"
   ]
  },
  {
   "cell_type": "code",
   "execution_count": 17,
   "id": "a889951c",
   "metadata": {},
   "outputs": [
    {
     "data": {
      "text/html": [
       "<div>\n",
       "<style scoped>\n",
       "    .dataframe tbody tr th:only-of-type {\n",
       "        vertical-align: middle;\n",
       "    }\n",
       "\n",
       "    .dataframe tbody tr th {\n",
       "        vertical-align: top;\n",
       "    }\n",
       "\n",
       "    .dataframe thead th {\n",
       "        text-align: right;\n",
       "    }\n",
       "</style>\n",
       "<table border=\"1\" class=\"dataframe\">\n",
       "  <thead>\n",
       "    <tr style=\"text-align: right;\">\n",
       "      <th></th>\n",
       "      <th>Structure</th>\n",
       "      <th>ID</th>\n",
       "      <th>logP</th>\n",
       "      <th>ECFP</th>\n",
       "    </tr>\n",
       "  </thead>\n",
       "  <tbody>\n",
       "    <tr>\n",
       "      <th>0</th>\n",
       "      <td>CC\\C(=C(\\CC)/c1ccc(O)cc1)\\c2ccc(O)cc2</td>\n",
       "      <td>CHEMBL411</td>\n",
       "      <td>4.871</td>\n",
       "      <td>[3, 0, 0, 77, 70, 218, 234, 87, 218, 228, 213,...</td>\n",
       "    </tr>\n",
       "    <tr>\n",
       "      <th>1</th>\n",
       "      <td>CSc1ccc2Sc3ccccc3N(CCC4CCCCN4C)c2c1</td>\n",
       "      <td>CHEMBL479</td>\n",
       "      <td>5.900</td>\n",
       "      <td>[15, 3, 0, 255, 254, 254, 254, 253, 63, 251, 2...</td>\n",
       "    </tr>\n",
       "    <tr>\n",
       "      <th>2</th>\n",
       "      <td>COc1cccc(CCN2C3C4C5CC6C7C5C3C7C2(O)C46)c1</td>\n",
       "      <td>CHEMBL2205811</td>\n",
       "      <td>3.040</td>\n",
       "      <td>[7, 0, 0, 255, 95, 191, 254, 253, 122, 255, 25...</td>\n",
       "    </tr>\n",
       "    <tr>\n",
       "      <th>3</th>\n",
       "      <td>COc1cc(CN[C@H]2C3C4CC5C6C4CC3C6C25)cc(OC)c1OC</td>\n",
       "      <td>CHEMBL2432051</td>\n",
       "      <td>3.380</td>\n",
       "      <td>[7, 0, 0, 252, 223, 214, 239, 221, 94, 254, 28...</td>\n",
       "    </tr>\n",
       "    <tr>\n",
       "      <th>4</th>\n",
       "      <td>COc1cccc(CCN2C3C4C5CC6C7C5C3C7C2(O)C46)c1OC</td>\n",
       "      <td>CHEMBL2205813</td>\n",
       "      <td>2.899</td>\n",
       "      <td>[7, 0, 0, 255, 95, 255, 254, 253, 123, 255, 25...</td>\n",
       "    </tr>\n",
       "  </tbody>\n",
       "</table>\n",
       "</div>"
      ],
      "text/plain": [
       "                                       Structure             ID   logP  \\\n",
       "0          CC\\C(=C(\\CC)/c1ccc(O)cc1)\\c2ccc(O)cc2      CHEMBL411  4.871   \n",
       "1            CSc1ccc2Sc3ccccc3N(CCC4CCCCN4C)c2c1      CHEMBL479  5.900   \n",
       "2      COc1cccc(CCN2C3C4C5CC6C7C5C3C7C2(O)C46)c1  CHEMBL2205811  3.040   \n",
       "3  COc1cc(CN[C@H]2C3C4CC5C6C4CC3C6C25)cc(OC)c1OC  CHEMBL2432051  3.380   \n",
       "4    COc1cccc(CCN2C3C4C5CC6C7C5C3C7C2(O)C46)c1OC  CHEMBL2205813  2.899   \n",
       "\n",
       "                                                ECFP  \n",
       "0  [3, 0, 0, 77, 70, 218, 234, 87, 218, 228, 213,...  \n",
       "1  [15, 3, 0, 255, 254, 254, 254, 253, 63, 251, 2...  \n",
       "2  [7, 0, 0, 255, 95, 191, 254, 253, 122, 255, 25...  \n",
       "3  [7, 0, 0, 252, 223, 214, 239, 221, 94, 254, 28...  \n",
       "4  [7, 0, 0, 255, 95, 255, 254, 253, 123, 255, 25...  "
      ]
     },
     "execution_count": 17,
     "metadata": {},
     "output_type": "execute_result"
    }
   ],
   "source": [
    "ds_logp[\"ECFP\"] = [indigo_fingerprint_short(s) for s in ds_logp[\"Structure\"]]\n",
    "ds_adra[\"ECFP\"] = [indigo_fingerprint_short(s) for s in ds_adra[\"Structure\"]]\n",
    "ds_logp.head()"
   ]
  },
  {
   "cell_type": "code",
   "execution_count": 12,
   "id": "bc1e1c02",
   "metadata": {},
   "outputs": [
    {
     "data": {
      "text/html": [
       "<div>\n",
       "<style scoped>\n",
       "    .dataframe tbody tr th:only-of-type {\n",
       "        vertical-align: middle;\n",
       "    }\n",
       "\n",
       "    .dataframe tbody tr th {\n",
       "        vertical-align: top;\n",
       "    }\n",
       "\n",
       "    .dataframe thead th {\n",
       "        text-align: right;\n",
       "    }\n",
       "</style>\n",
       "<table border=\"1\" class=\"dataframe\">\n",
       "  <thead>\n",
       "    <tr style=\"text-align: right;\">\n",
       "      <th></th>\n",
       "      <th>Structure</th>\n",
       "      <th>ID</th>\n",
       "      <th>AdrA1A_PCHEMBL_VALUE</th>\n",
       "      <th>ECFP</th>\n",
       "    </tr>\n",
       "  </thead>\n",
       "  <tbody>\n",
       "    <tr>\n",
       "      <th>0</th>\n",
       "      <td>CNC(=O)C(CCN1CCC(O)(CC1)c2ccc(Cl)cc2)(c3ccccc3...</td>\n",
       "      <td>CHEMBL1627</td>\n",
       "      <td>8.00</td>\n",
       "      <td>[15, 0, 0, 231, 126, 191, 255, 223, 62, 254, 2...</td>\n",
       "    </tr>\n",
       "    <tr>\n",
       "      <th>1</th>\n",
       "      <td>Cc1ccc2c(cccc2n1)N3CCN(CCc4cccc5c4OCc6c(ncn56)...</td>\n",
       "      <td>CHEMBL1241913</td>\n",
       "      <td>8.56</td>\n",
       "      <td>[31, 0, 0, 247, 255, 235, 255, 253, 255, 191, ...</td>\n",
       "    </tr>\n",
       "    <tr>\n",
       "      <th>2</th>\n",
       "      <td>COc1ccccc1OCCNCC2CSC(S2)(c3ccccc3)c4ccccc4</td>\n",
       "      <td>CHEMBL1086156</td>\n",
       "      <td>7.45</td>\n",
       "      <td>[7, 3, 0, 255, 239, 251, 227, 221, 251, 223, 1...</td>\n",
       "    </tr>\n",
       "    <tr>\n",
       "      <th>3</th>\n",
       "      <td>O[C@H]1[C@H](CC[C@@H]1Oc2ccccc2)NC[C@H]3COc4cc...</td>\n",
       "      <td>CHEMBL135974</td>\n",
       "      <td>6.41</td>\n",
       "      <td>[39, 0, 0, 84, 102, 219, 43, 221, 253, 255, 76...</td>\n",
       "    </tr>\n",
       "    <tr>\n",
       "      <th>4</th>\n",
       "      <td>COc1cccc(OC)c1OCCNC[C@H]2COc3ccccc3O2</td>\n",
       "      <td>CHEMBL1182155</td>\n",
       "      <td>9.39</td>\n",
       "      <td>[99, 0, 0, 124, 230, 211, 105, 221, 213, 91, 7...</td>\n",
       "    </tr>\n",
       "  </tbody>\n",
       "</table>\n",
       "</div>"
      ],
      "text/plain": [
       "                                           Structure             ID  \\\n",
       "0  CNC(=O)C(CCN1CCC(O)(CC1)c2ccc(Cl)cc2)(c3ccccc3...     CHEMBL1627   \n",
       "1  Cc1ccc2c(cccc2n1)N3CCN(CCc4cccc5c4OCc6c(ncn56)...  CHEMBL1241913   \n",
       "2         COc1ccccc1OCCNCC2CSC(S2)(c3ccccc3)c4ccccc4  CHEMBL1086156   \n",
       "3  O[C@H]1[C@H](CC[C@@H]1Oc2ccccc2)NC[C@H]3COc4cc...   CHEMBL135974   \n",
       "4              COc1cccc(OC)c1OCCNC[C@H]2COc3ccccc3O2  CHEMBL1182155   \n",
       "\n",
       "   AdrA1A_PCHEMBL_VALUE                                               ECFP  \n",
       "0                  8.00  [15, 0, 0, 231, 126, 191, 255, 223, 62, 254, 2...  \n",
       "1                  8.56  [31, 0, 0, 247, 255, 235, 255, 253, 255, 191, ...  \n",
       "2                  7.45  [7, 3, 0, 255, 239, 251, 227, 221, 251, 223, 1...  \n",
       "3                  6.41  [39, 0, 0, 84, 102, 219, 43, 221, 253, 255, 76...  \n",
       "4                  9.39  [99, 0, 0, 124, 230, 211, 105, 221, 213, 91, 7...  "
      ]
     },
     "execution_count": 12,
     "metadata": {},
     "output_type": "execute_result"
    }
   ],
   "source": [
    "ds_adra.head()"
   ]
  },
  {
   "cell_type": "code",
   "execution_count": 13,
   "id": "4f320df4",
   "metadata": {},
   "outputs": [],
   "source": [
    "# pip install -U scikit-learn"
   ]
  },
  {
   "cell_type": "code",
   "execution_count": 14,
   "id": "a9066efc",
   "metadata": {},
   "outputs": [
    {
     "name": "stdout",
     "output_type": "stream",
     "text": [
      "1.0.1\n"
     ]
    }
   ],
   "source": [
    "# check scikit-learn version\n",
    "import sklearn\n",
    "print(sklearn.__version__)"
   ]
  },
  {
   "cell_type": "code",
   "execution_count": 27,
   "id": "fddd8bc5",
   "metadata": {
    "scrolled": true
   },
   "outputs": [
    {
     "name": "stdout",
     "output_type": "stream",
     "text": [
      "0.7060103589187897 \n",
      "\n",
      "0.7141735366955138 \n",
      "\n",
      "0.7016053047427632 \n",
      "\n",
      "0.7115975562008005 \n",
      "\n",
      "0.7008605507177861 \n",
      "\n",
      "MEAN: 0.7068494614551306\n"
     ]
    }
   ],
   "source": [
    "from sklearn.model_selection import KFold\n",
    "from sklearn.metrics import r2_score\n",
    "from sklearn.ensemble import RandomForestRegressor\n",
    "\n",
    "scores = []\n",
    "kf = KFold(n_splits=5, random_state=42, shuffle=True)\n",
    "X = ds_logp.ECFP\n",
    "y = ds_logp.logP\n",
    "for train_index, test_index in kf.split(X, numpy.zeros(len(y))):\n",
    "    X = ds_logp.loc[train_index][\"ECFP\"].tolist()\n",
    "    y = ds_logp.loc[train_index][\"logP\"]\n",
    "    \n",
    "    Xt = ds_logp.loc[test_index][\"ECFP\"].tolist()\n",
    "    yt = ds_logp.loc[test_index][\"logP\"]\n",
    "    \n",
    "    model_logP = RandomForestRegressor(n_estimators=100, max_features=None).fit(X, y)\n",
    "    score = r2_score(yt, model_logP.predict(Xt))\n",
    "    print(score, \"\\n\")\n",
    "    scores.append(score)\n",
    "\n",
    "print(\"MEAN:\", numpy.mean(scores))"
   ]
  },
  {
   "cell_type": "code",
   "execution_count": 24,
   "id": "75273a31",
   "metadata": {},
   "outputs": [
    {
     "name": "stdout",
     "output_type": "stream",
     "text": [
      "0.5217329452018178 \n",
      "\n",
      "0.5219955199242897 \n",
      "\n",
      "0.6126633549067497 \n",
      "\n",
      "0.5036185313364065 \n",
      "\n",
      "0.5266338334538623 \n",
      "\n",
      "MEAN: 0.5373288369646253\n"
     ]
    }
   ],
   "source": [
    "scores = []\n",
    "\n",
    "kf = KFold(n_splits=5, random_state=42, shuffle=True)\n",
    "X = ds_adra.ECFP\n",
    "y = ds_adra.AdrA1A_PCHEMBL_VALUE\n",
    "for train_index, test_index in kf.split(X, numpy.zeros(len(y))):\n",
    "    X = ds_adra.loc[train_index][\"ECFP\"].tolist()\n",
    "    z = ds_adra.loc[train_index][\"AdrA1A_PCHEMBL_VALUE\"]\n",
    "    \n",
    "    Xt = ds_adra.loc[test_index][\"ECFP\"].tolist()\n",
    "    zt = ds_adra.loc[test_index][\"AdrA1A_PCHEMBL_VALUE\"]\n",
    "    \n",
    "    model_Adr = RandomForestRegressor(n_estimators=100, max_features=None).fit(X, z)\n",
    "    score = r2_score(zt, model_Adr.predict(Xt))\n",
    "    print(score, \"\\n\")\n",
    "    scores.append(score)\n",
    "    \n",
    "print(\"MEAN:\", numpy.mean(scores))"
   ]
  }
 ],
 "metadata": {
  "kernelspec": {
   "display_name": "Python 3 (ipykernel)",
   "language": "python",
   "name": "python3"
  },
  "language_info": {
   "codemirror_mode": {
    "name": "ipython",
    "version": 3
   },
   "file_extension": ".py",
   "mimetype": "text/x-python",
   "name": "python",
   "nbconvert_exporter": "python",
   "pygments_lexer": "ipython3",
   "version": "3.9.2"
  }
 },
 "nbformat": 4,
 "nbformat_minor": 5
}
