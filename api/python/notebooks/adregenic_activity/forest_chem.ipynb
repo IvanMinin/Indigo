{
 "cells": [
  {
   "cell_type": "code",
   "execution_count": 80,
   "id": "5202049e",
   "metadata": {
    "scrolled": true
   },
   "outputs": [
    {
     "data": {
      "text/plain": [
       "(841, 1)"
      ]
     },
     "execution_count": 80,
     "metadata": {},
     "output_type": "execute_result"
    }
   ],
   "source": [
    "import pandas as pd\n",
    "import numpy as np\n",
    "from indigo import *\n",
    "indigo = Indigo()\n",
    "\n",
    "indigo.setOption(\"ignore-stereochemistry-errors\", True)\n",
    "indigo.setOption(\"ignore-bad-valence\", True)\n",
    "\n",
    "indigo.setOption('fp-sim-qwords', 8)\n",
    "indigo.setOption(\"fp-ord-qwords\", 25)\n",
    "indigo.setOption('fp-any-qwords', 15)\n",
    "indigo.setOption('fp-tau-qwords', 25)\n",
    "indigo.setOption('fp-ext-enabled', True)\n",
    "\n",
    "def get_finger(struct):\n",
    "    mol = indigo.loadMolecule(struct)\n",
    "    try:\n",
    "        finger = mol.fingerprint('full')\n",
    "    except IndigoException as e:\n",
    "        return None\n",
    "    else:\n",
    "        return finger.toBuffer()\n",
    "\n",
    "\n",
    "\n",
    "\n",
    "df = pd.read_csv('Adrenergic_dataset.csv')\n",
    "df['finger'] = df['Structure'].map(get_finger)\n",
    "df = df[df['finger'].notna()]\n",
    "\n",
    "\n",
    "\n",
    "df_ph = df[(df['logP'].notna())]\n",
    "df_ad_val = df[df['AdrA1A_PCHEMBL_VALUE'].notna()]\n",
    "\n",
    "\n",
    "\n",
    "\n",
    "ph_labels = np.array(df_ph['logP'])\n",
    "ph_vals = np.array([*df_ph['finger']])\n",
    "\n",
    "\n",
    "\n",
    "\n",
    "\n",
    "ad_labels = np.array(df_ad_val['AdrA1A_PCHEMBL_VALUE'])\n",
    "ad_vals = np.array([*df_ad_val['finger']])\n",
    "\n",
    "# fp-ord-qwords 25\n",
    "\n",
    "# fp-sim-qwords 8\n",
    "\n",
    "# fp-any-qwords 15\n",
    "\n",
    "# fp-tau-qwords 25"
   ]
  },
  {
   "cell_type": "code",
   "execution_count": 68,
   "id": "0aa80096",
   "metadata": {},
   "outputs": [
    {
     "data": {
      "text/plain": [
       "array([[ 15,   0,   0, ..., 144,  70,  77],\n",
       "       [ 31,   0,   0, ...,  88, 115, 247],\n",
       "       [  7,   3,   0, ..., 144,  19,  31],\n",
       "       ...,\n",
       "       [ 31,  12,   0, ..., 188,  87, 103],\n",
       "       [ 63,   0,   0, ..., 156,  67, 111],\n",
       "       [ 63,   0,   0, ..., 156,  67, 111]], dtype=uint8)"
      ]
     },
     "execution_count": 68,
     "metadata": {},
     "output_type": "execute_result"
    }
   ],
   "source": [
    "np.array([np.frombuffer(x, dtype=np.uint8) for x in df_ad_val['finger']])"
   ]
  },
  {
   "cell_type": "code",
   "execution_count": 74,
   "id": "38569117",
   "metadata": {},
   "outputs": [
    {
     "data": {
      "text/plain": [
       "(841, 587)"
      ]
     },
     "execution_count": 74,
     "metadata": {},
     "output_type": "execute_result"
    }
   ],
   "source": [
    "np.array([*df_ad_val['finger']]).shape"
   ]
  },
  {
   "cell_type": "code",
   "execution_count": null,
   "id": "eaeb386a",
   "metadata": {},
   "outputs": [],
   "source": []
  },
  {
   "cell_type": "markdown",
   "id": "af234df7",
   "metadata": {},
   "source": [
    "# scripts"
   ]
  },
  {
   "cell_type": "code",
   "execution_count": 46,
   "id": "b0944942",
   "metadata": {},
   "outputs": [],
   "source": [
    "from sklearn.model_selection import train_test_split\n",
    "from sklearn.ensemble import RandomForestRegressor\n",
    "from sklearn.metrics import r2_score\n",
    "\n",
    "def get_r2_score(vals, labels, regressor):\n",
    "    train_features, test_features, train_labels, test_labels = train_test_split(vals, labels, \n",
    "                                                                            test_size = 0.25, random_state = 42)\n",
    "    regressor.fit(train_features, train_labels)\n",
    "    preds = regressor.predict(test_features)\n",
    "    return r2_score(test_labels, preds)"
   ]
  },
  {
   "cell_type": "markdown",
   "id": "1107ffd9",
   "metadata": {},
   "source": [
    "# random fosrest"
   ]
  },
  {
   "cell_type": "code",
   "execution_count": 13,
   "id": "6da2cf1b",
   "metadata": {},
   "outputs": [],
   "source": [
    "rf = RandomForestRegressor(n_estimators = 1000, random_state = 42)"
   ]
  },
  {
   "cell_type": "markdown",
   "id": "54ba073c",
   "metadata": {},
   "source": [
    "#### logP"
   ]
  },
  {
   "cell_type": "code",
   "execution_count": 17,
   "id": "9bcbcd2c",
   "metadata": {},
   "outputs": [
    {
     "data": {
      "text/plain": [
       "0.7384663419773593"
      ]
     },
     "execution_count": 17,
     "metadata": {},
     "output_type": "execute_result"
    }
   ],
   "source": [
    "get_r2_score(ph_vals, ph_labels, rf)"
   ]
  },
  {
   "cell_type": "markdown",
   "id": "22070109",
   "metadata": {},
   "source": [
    "#### AdrA1A_PCHEMBL_VALUE"
   ]
  },
  {
   "cell_type": "code",
   "execution_count": 18,
   "id": "0b37d1bb",
   "metadata": {},
   "outputs": [
    {
     "data": {
      "text/plain": [
       "0.48062209347425056"
      ]
     },
     "execution_count": 18,
     "metadata": {},
     "output_type": "execute_result"
    }
   ],
   "source": [
    "get_r2_score(ad_vals, ad_labels, rf)"
   ]
  },
  {
   "cell_type": "markdown",
   "id": "125892b9",
   "metadata": {},
   "source": [
    "# support vectors"
   ]
  },
  {
   "cell_type": "code",
   "execution_count": 47,
   "id": "292b6f4b",
   "metadata": {},
   "outputs": [],
   "source": [
    "from sklearn.svm import SVR\n",
    "\n",
    "\n",
    "svr = SVR()"
   ]
  },
  {
   "cell_type": "markdown",
   "id": "3d6b45d1",
   "metadata": {},
   "source": [
    "#### logP"
   ]
  },
  {
   "cell_type": "code",
   "execution_count": 54,
   "id": "63638fb8",
   "metadata": {},
   "outputs": [
    {
     "data": {
      "text/plain": [
       "0.7222366027933788"
      ]
     },
     "execution_count": 54,
     "metadata": {},
     "output_type": "execute_result"
    }
   ],
   "source": [
    "get_r2_score(ph_vals, ph_labels, svr)"
   ]
  },
  {
   "cell_type": "markdown",
   "id": "e81666af",
   "metadata": {},
   "source": [
    "#### AdrA1A_PCHEMBL_VALUE"
   ]
  },
  {
   "cell_type": "code",
   "execution_count": 20,
   "id": "b9d39f4b",
   "metadata": {},
   "outputs": [
    {
     "data": {
      "text/plain": [
       "0.4464478981864477"
      ]
     },
     "execution_count": 20,
     "metadata": {},
     "output_type": "execute_result"
    }
   ],
   "source": [
    "get_r2_score(ad_vals, ad_labels, svr)"
   ]
  },
  {
   "cell_type": "code",
   "execution_count": null,
   "id": "2e5258c6",
   "metadata": {},
   "outputs": [],
   "source": []
  }
 ],
 "metadata": {
  "kernelspec": {
   "display_name": "Python 3 (ipykernel)",
   "language": "python",
   "name": "python3"
  },
  "language_info": {
   "codemirror_mode": {
    "name": "ipython",
    "version": 3
   },
   "file_extension": ".py",
   "mimetype": "text/x-python",
   "name": "python",
   "nbconvert_exporter": "python",
   "pygments_lexer": "ipython3",
   "version": "3.8.10"
  }
 },
 "nbformat": 4,
 "nbformat_minor": 5
}
